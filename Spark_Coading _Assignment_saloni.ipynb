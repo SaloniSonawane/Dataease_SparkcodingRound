{
 "cells": [
  {
   "cell_type": "code",
   "execution_count": 1,
   "metadata": {},
   "outputs": [],
   "source": [
    "from pyspark.sql import SparkSession\n",
    "from pyspark.context import SparkContext\n",
    "from pyspark.sql.functions import *\n",
    "import time\n",
    "from pyspark import SparkFiles"
   ]
  },
  {
   "cell_type": "code",
   "execution_count": 2,
   "metadata": {},
   "outputs": [],
   "source": [
    "spark = SparkSession.builder.\\\n",
    "master(\"local\").\\\n",
    "appName(\"Exercise 1\").\\\n",
    "config(\"spark.some.config.option\", \"some-value\").\\\n",
    "getOrCreate()"
   ]
  },
  {
   "cell_type": "code",
   "execution_count": 5,
   "metadata": {},
   "outputs": [],
   "source": [
    "df1 = spark.read.option(\"inferSchema\", \"true\").parquet(\"/home/saloni/Downloads/consumerInternet.parquet\")"
   ]
  },
  {
   "cell_type": "code",
   "execution_count": 7,
   "metadata": {},
   "outputs": [
    {
     "name": "stdout",
     "output_type": "stream",
     "text": [
      "+-----+----------+------------+-----------------+--------------------+---------+--------------------+---------------+-------------+-------+\n",
      "|Sr_No|      Date|Startup_Name|Industry_Vertical|         SubVertical|     City|      Investors_Name|InvestmentnType|Amount_in_USD|Remarks|\n",
      "+-----+----------+------------+-----------------+--------------------+---------+--------------------+---------------+-------------+-------+\n",
      "|  152|01/09/2018|     Netmeds|Consumer Internet|Online Pharmacy C...|  Chennai|Sistema Asia Fund...| Private Equity|  3,50,00,000|    nan|\n",
      "|  154|03/09/2018|  Daily hunt|Consumer Internet|News and ebooks M...|Bengaluru|         Falcon Edge| Private Equity|    63,90,000|    nan|\n",
      "+-----+----------+------------+-----------------+--------------------+---------+--------------------+---------------+-------------+-------+\n",
      "only showing top 2 rows\n",
      "\n"
     ]
    }
   ],
   "source": [
    "df1.show(2)"
   ]
  },
  {
   "cell_type": "code",
   "execution_count": 9,
   "metadata": {},
   "outputs": [],
   "source": [
    "df2 = spark.read.option(\"inferSchema\", \"true\").option(\"header\",\"true\").csv(\"/home/saloni/Downloads/startup.csv\")"
   ]
  },
  {
   "cell_type": "code",
   "execution_count": 10,
   "metadata": {},
   "outputs": [
    {
     "name": "stdout",
     "output_type": "stream",
     "text": [
      "+-----+----------+------------+-----------------+--------------------+---------+--------------------+--------------------+-------------+-------+\n",
      "|Sr_No|      Date|Startup_Name|Industry_Vertical|         SubVertical|     City|      Investors_Name|     InvestmentnType|Amount_in_USD|Remarks|\n",
      "+-----+----------+------------+-----------------+--------------------+---------+--------------------+--------------------+-------------+-------+\n",
      "|    1|09/01/2020|      BYJU’S|           E-Tech|          E-learning|Bengaluru|Tiger Global Mana...|Private Equity Round| 20,00,00,000|   null|\n",
      "|    2|13/01/2020|      Shuttl|   Transportation|App based shuttle...|  Gurgaon|Susquehanna Growt...|            Series C|    80,48,394|   null|\n",
      "|    3|09/01/2020|   Mamaearth|       E-commerce|Retailer of baby ...|Bengaluru|Sequoia Capital I...|            Series B|  1,83,58,860|   null|\n",
      "+-----+----------+------------+-----------------+--------------------+---------+--------------------+--------------------+-------------+-------+\n",
      "only showing top 3 rows\n",
      "\n"
     ]
    }
   ],
   "source": [
    "df2.show(3)"
   ]
  },
  {
   "cell_type": "code",
   "execution_count": 11,
   "metadata": {},
   "outputs": [
    {
     "name": "stdout",
     "output_type": "stream",
     "text": [
      "+-----+----------+------------+-----------------+--------------------+---------+--------------------+---------------+-------------+-------+\n",
      "|Sr_No|      Date|Startup_Name|Industry_Vertical|         SubVertical|     City|      Investors_Name|InvestmentnType|Amount_in_USD|Remarks|\n",
      "+-----+----------+------------+-----------------+--------------------+---------+--------------------+---------------+-------------+-------+\n",
      "|  751|14/06/2017|     MrNeeds|Consumer Internet|Micro Food Delive...|    Noida|undisclosed inves...|   Seed Funding|     5,00,000|    nan|\n",
      "|  976|24/03/2017|   Delhivery|       Technology|Tech enabled Fulf...|New Delhi|Carlyle Group, Ti...| Private Equity| 10,00,00,000|    nan|\n",
      "|  946|07/03/2017|Data Resolve|       Technology|Cyber Security So...|    Noida|IDFC Parampara Ea...| Private Equity|    10,00,000|    nan|\n",
      "+-----+----------+------------+-----------------+--------------------+---------+--------------------+---------------+-------------+-------+\n",
      "only showing top 3 rows\n",
      "\n"
     ]
    }
   ],
   "source": [
    "df1.registerTempTable(\"df1\")\n",
    "df2.registerTempTable(\"df2\")\n",
    "df = spark.sql(\"select * from df1 FULL OUTER JOIN df2 using(Sr_No,Date,Startup_Name,Industry_Vertical,SubVertical,City,Investors_Name,InvestmentnType,Amount_in_USD,Remarks) ;\")\n",
    "df = df.filter(\"Sr_No is not null\")\n",
    "df = df.dropDuplicates()\n",
    "df.show(3)"
   ]
  },
  {
   "cell_type": "code",
   "execution_count": 12,
   "metadata": {},
   "outputs": [
    {
     "name": "stdout",
     "output_type": "stream",
     "text": [
      "+--------+\n",
      "|count(1)|\n",
      "+--------+\n",
      "|     105|\n",
      "+--------+\n",
      "\n"
     ]
    }
   ],
   "source": [
    "#Q1 How many startups are there in Pune City?\n",
    "\n",
    "df.registerTempTable(\"df\")\n",
    "q1 = spark.sql(\"select count(*) from df where city = 'Pune' ;\")\n",
    "q1.show()"
   ]
  },
  {
   "cell_type": "code",
   "execution_count": 13,
   "metadata": {},
   "outputs": [
    {
     "name": "stdout",
     "output_type": "stream",
     "text": [
      "+--------+\n",
      "|count(1)|\n",
      "+--------+\n",
      "|      58|\n",
      "+--------+\n",
      "\n"
     ]
    }
   ],
   "source": [
    "#Q2 How many startups in Pune got their Seed/ Angel Funding?\n",
    "\n",
    "q2 = spark.sql(\"select count(*) from df where city = 'Pune' and ( InvestmentnType LIKE '%Seed%' or InvestmentnType LIKE '%Angel%') ;\")\n",
    "q2.show()"
   ]
  },
  {
   "cell_type": "code",
   "execution_count": 14,
   "metadata": {},
   "outputs": [
    {
     "name": "stdout",
     "output_type": "stream",
     "text": [
      "+-----------------------------------------------+\n",
      "|sum(CAST(nvl(df.`Amount_in_USD`, 0) AS DOUBLE))|\n",
      "+-----------------------------------------------+\n",
      "|                                           null|\n",
      "+-----------------------------------------------+\n",
      "\n"
     ]
    }
   ],
   "source": [
    "#Q3 What is the total amount raised by startups in Pune City? Hint - use regex_replace to get rid of null\n",
    "\n",
    "q3 = spark.sql(\"select sum(cast(NVL(Amount_in_USD,0) as double)) from df where city = 'Pune' ;\")\n",
    "q3.show()"
   ]
  },
  {
   "cell_type": "code",
   "execution_count": 15,
   "metadata": {},
   "outputs": [
    {
     "name": "stdout",
     "output_type": "stream",
     "text": [
      "+-----------------+---+\n",
      "|Industry_Vertical|cnt|\n",
      "+-----------------+---+\n",
      "|Consumer Internet|941|\n",
      "|       Technology|478|\n",
      "|        eCommerce|186|\n",
      "|              nan|171|\n",
      "|       Healthcare| 70|\n",
      "+-----------------+---+\n",
      "\n"
     ]
    }
   ],
   "source": [
    "#Q4 What are the top 5 Industry_Vertical which has the highest number of startups in India?\n",
    "\n",
    "q4 = spark.sql(\"select Industry_Vertical, count(Startup_Name) cnt from df group by Industry_Vertical order by cnt desc limit 5 ; \")\n",
    "q4.show()"
   ]
  },
  {
   "cell_type": "code",
   "execution_count": 22,
   "metadata": {},
   "outputs": [
    {
     "name": "stdout",
     "output_type": "stream",
     "text": [
      "+--------------------+----+----------------------------------+\n",
      "|      Investors_Name|   y|max(CAST(Amount_in_USD AS DOUBLE))|\n",
      "+--------------------+----+----------------------------------+\n",
      "|PBS Srinivas, Vin...|null|                              null|\n",
      "|Alok Rawat, Grey ...|null|                              null|\n",
      "|          Xiaomi Inc|null|                              null|\n",
      "|      Blume ventures|null|                              null|\n",
      "|      ResponsAbility|null|                              null|\n",
      "|     RPG Enterprises|null|                              null|\n",
      "|Kanwaljit Singh, ...|null|                              null|\n",
      "|    The Phoenix Fund|null|                              null|\n",
      "|Bharanidharan Vis...|null|                              null|\n",
      "|Blume Ventures, M...|null|                              null|\n",
      "|       SoftBank Corp|null|                              null|\n",
      "|Matrix Partners I...|null|                              null|\n",
      "|            Logtally|null|                              null|\n",
      "|Florida based Ang...|null|                              null|\n",
      "|       Mumbai Angels|null|                              null|\n",
      "|     Axilor Ventures|null|                              null|\n",
      "|Nandan Nilekani, ...|null|                              null|\n",
      "|Group of 15 Angel...|null|                              null|\n",
      "|Anand Rajaraman, ...|null|                              null|\n",
      "|        ah! Ventures|null|                              null|\n",
      "+--------------------+----+----------------------------------+\n",
      "only showing top 20 rows\n",
      "\n"
     ]
    }
   ],
   "source": [
    "#Q5 Find the top Investor(by amount) of each year.\n",
    "\n",
    "q5 = spark.sql(\"select Investors_Name, year(date)as y, max(cast(Amount_in_USD as double)) from df group by Investors_Name,y;\")\n",
    "q5.show()"
   ]
  },
  {
   "cell_type": "code",
   "execution_count": 18,
   "metadata": {},
   "outputs": [
    {
     "name": "stdout",
     "output_type": "stream",
     "text": [
      "+--------------------+---+\n",
      "|         SubVertical|cnt|\n",
      "+--------------------+---+\n",
      "|Online Lending Pl...| 11|\n",
      "+--------------------+---+\n",
      "\n"
     ]
    }
   ],
   "source": [
    "#Q6 Which SubVertical had the highest growth(in number of startups) over the years?\n",
    "\n",
    "q5 = spark.sql(\"select SubVertical, count(Startup_Name) cnt from df where Subvertical <> 'nan' group by SubVertical order by cnt desc limit 1;\")\n",
    "q5.show()"
   ]
  },
  {
   "cell_type": "code",
   "execution_count": null,
   "metadata": {},
   "outputs": [],
   "source": []
  }
 ],
 "metadata": {
  "kernelspec": {
   "display_name": "Python 3",
   "language": "python",
   "name": "python3"
  },
  "language_info": {
   "codemirror_mode": {
    "name": "ipython",
    "version": 3
   },
   "file_extension": ".py",
   "mimetype": "text/x-python",
   "name": "python",
   "nbconvert_exporter": "python",
   "pygments_lexer": "ipython3",
   "version": "3.8.5"
  }
 },
 "nbformat": 4,
 "nbformat_minor": 4
}
